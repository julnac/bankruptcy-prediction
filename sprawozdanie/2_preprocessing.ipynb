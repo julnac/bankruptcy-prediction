{
 "cells": [
  {
   "cell_type": "code",
   "execution_count": 1,
   "id": "dfde7d87",
   "metadata": {},
   "outputs": [],
   "source": [
    "import pandas as pd\n",
    "import numpy as np\n",
    "import math\n",
    "\n",
    "import matplotlib.pyplot as plt\n",
    "from matplotlib.patches import Rectangle\n",
    "import seaborn as sns\n",
    "\n",
    "import sys\n",
    "import os\n",
    "sys.path.append(os.path.abspath('../'))\n",
    "\n",
    "from sklearn.decomposition import PCA\n",
    "from sklearn.preprocessing import StandardScaler\n",
    "\n",
    "from sprawozdanie.model_service import *\n",
    "dataset = pd.read_csv('../data/numerical_dataset_original.csv')"
   ]
  },
  {
   "cell_type": "markdown",
   "id": "c62aed8c",
   "metadata": {},
   "source": [
    "## 3. Preprocessing"
   ]
  },
  {
   "cell_type": "markdown",
   "id": "05306b9c",
   "metadata": {},
   "source": [
    "Po wstępnej analizie i eksperymentach z kilkoma modelami okazało się, że zaproponowany podział zbioru danych na zbiory treningowy, testowy i walidacyjny prowadzi do dziwnych rezultatów — np. testowany model XGBClassifier uzyskuje zupełnie różne wartości metryki precyzji.\n",
    "\n",
    "Zdecydowano się więc na własny podział tylko na zbiory treningowy i testowy oraz przesunięcie procesu przygotowania danych bezpośrednio przed treningiem modelu.\n",
    "\n",
    "Usunięto kolumny metadanych, które nie są potrzebne do trenowania modelu. Pozostawiono jedynie kolumny: cik, label oraz cechy (features).\n",
    "Kolumna cik jest potrzebna do grupowania danych oraz operacji spłaszczania i przywracania struktury (flattening / deflattening)."
   ]
  },
  {
   "cell_type": "code",
   "execution_count": 2,
   "id": "7d65fde0",
   "metadata": {},
   "outputs": [
    {
     "data": {
      "application/vnd.microsoft.datawrangler.viewer.v0+json": {
       "columns": [
        {
         "name": "index",
         "rawType": "int64",
         "type": "integer"
        },
        {
         "name": "label",
         "rawType": "bool",
         "type": "boolean"
        },
        {
         "name": "Cost of Goods Sold",
         "rawType": "float64",
         "type": "float"
        },
        {
         "name": "Depreciation Depletion Amortization",
         "rawType": "float64",
         "type": "float"
        },
        {
         "name": "EBIT",
         "rawType": "float64",
         "type": "float"
        },
        {
         "name": "EBITDA",
         "rawType": "float64",
         "type": "float"
        },
        {
         "name": "Gross Profit",
         "rawType": "float64",
         "type": "float"
        },
        {
         "name": "Long-Term Debt",
         "rawType": "float64",
         "type": "float"
        },
        {
         "name": "Market Cap",
         "rawType": "float64",
         "type": "float"
        },
        {
         "name": "Net Income",
         "rawType": "float64",
         "type": "float"
        },
        {
         "name": "Retained Earnings",
         "rawType": "float64",
         "type": "float"
        },
        {
         "name": "Revenue",
         "rawType": "float64",
         "type": "float"
        },
        {
         "name": "Total Assets",
         "rawType": "float64",
         "type": "float"
        },
        {
         "name": "Total Current Assets",
         "rawType": "float64",
         "type": "float"
        },
        {
         "name": "Total Current Liabilities",
         "rawType": "float64",
         "type": "float"
        },
        {
         "name": "Total Inventories",
         "rawType": "float64",
         "type": "float"
        },
        {
         "name": "Total Liabilities",
         "rawType": "float64",
         "type": "float"
        },
        {
         "name": "Total Operating Expense",
         "rawType": "float64",
         "type": "float"
        },
        {
         "name": "Total Receivables",
         "rawType": "float64",
         "type": "float"
        }
       ],
       "ref": "c03cb12f-d52e-4f26-bd20-95c6d1c9b1a6",
       "rows": [
        [
         "0",
         "False",
         "246.5",
         "5.5",
         "30.0",
         "35.5",
         "56.2",
         "3.9",
         "171.0",
         "33.6",
         "-113.7",
         "302.7",
         "275.1",
         "154.0",
         "117.6",
         "77.1",
         "207.3",
         "26.2",
         "96.2"
        ],
        [
         "1",
         "False",
         "268.5",
         "6.9",
         "18.6",
         "25.5",
         "56.6",
         "0.6",
         "203.3",
         "36.3",
         "-77.4",
         "325.2",
         "307.8",
         "185.3",
         "123.7",
         "77.1",
         "201.2",
         "38.0",
         "110.8"
        ],
        [
         "2",
         "False",
         "312.1",
         "8.8",
         "20.9",
         "29.7",
         "60.8",
         "0.1",
         "185.0",
         "12.1",
         "-65.4",
         "372.9",
         "335.6",
         "221.0",
         "132.2",
         "77.1",
         "211.1",
         "39.9",
         "160.0"
        ],
        [
         "3",
         "False",
         "337.3",
         "9.3",
         "30.7",
         "40.0",
         "77.4",
         "0.1",
         "309.4",
         "19.4",
         "-45.9",
         "414.6",
         "362.9",
         "234.3",
         "144.2",
         "77.1",
         "215.4",
         "46.6",
         "179.7"
        ],
        [
         "4",
         "False",
         "402.3",
         "14.7",
         "2.2",
         "16.9",
         "79.0",
         "79.2",
         "196.4",
         "0.0",
         "-45.9",
         "481.3",
         "478.5",
         "248.2",
         "178.4",
         "77.1",
         "325.1",
         "77.7",
         "199.3"
        ]
       ],
       "shape": {
        "columns": 18,
        "rows": 5
       }
      },
      "text/html": [
       "<div>\n",
       "<style scoped>\n",
       "    .dataframe tbody tr th:only-of-type {\n",
       "        vertical-align: middle;\n",
       "    }\n",
       "\n",
       "    .dataframe tbody tr th {\n",
       "        vertical-align: top;\n",
       "    }\n",
       "\n",
       "    .dataframe thead th {\n",
       "        text-align: right;\n",
       "    }\n",
       "</style>\n",
       "<table border=\"1\" class=\"dataframe\">\n",
       "  <thead>\n",
       "    <tr style=\"text-align: right;\">\n",
       "      <th></th>\n",
       "      <th>label</th>\n",
       "      <th>Cost of Goods Sold</th>\n",
       "      <th>Depreciation Depletion Amortization</th>\n",
       "      <th>EBIT</th>\n",
       "      <th>EBITDA</th>\n",
       "      <th>Gross Profit</th>\n",
       "      <th>Long-Term Debt</th>\n",
       "      <th>Market Cap</th>\n",
       "      <th>Net Income</th>\n",
       "      <th>Retained Earnings</th>\n",
       "      <th>Revenue</th>\n",
       "      <th>Total Assets</th>\n",
       "      <th>Total Current Assets</th>\n",
       "      <th>Total Current Liabilities</th>\n",
       "      <th>Total Inventories</th>\n",
       "      <th>Total Liabilities</th>\n",
       "      <th>Total Operating Expense</th>\n",
       "      <th>Total Receivables</th>\n",
       "    </tr>\n",
       "  </thead>\n",
       "  <tbody>\n",
       "    <tr>\n",
       "      <th>0</th>\n",
       "      <td>False</td>\n",
       "      <td>246.5</td>\n",
       "      <td>5.5</td>\n",
       "      <td>30.0</td>\n",
       "      <td>35.5</td>\n",
       "      <td>56.2</td>\n",
       "      <td>3.9</td>\n",
       "      <td>171.0</td>\n",
       "      <td>33.6</td>\n",
       "      <td>-113.7</td>\n",
       "      <td>302.7</td>\n",
       "      <td>275.1</td>\n",
       "      <td>154.0</td>\n",
       "      <td>117.6</td>\n",
       "      <td>77.1</td>\n",
       "      <td>207.3</td>\n",
       "      <td>26.2</td>\n",
       "      <td>96.2</td>\n",
       "    </tr>\n",
       "    <tr>\n",
       "      <th>1</th>\n",
       "      <td>False</td>\n",
       "      <td>268.5</td>\n",
       "      <td>6.9</td>\n",
       "      <td>18.6</td>\n",
       "      <td>25.5</td>\n",
       "      <td>56.6</td>\n",
       "      <td>0.6</td>\n",
       "      <td>203.3</td>\n",
       "      <td>36.3</td>\n",
       "      <td>-77.4</td>\n",
       "      <td>325.2</td>\n",
       "      <td>307.8</td>\n",
       "      <td>185.3</td>\n",
       "      <td>123.7</td>\n",
       "      <td>77.1</td>\n",
       "      <td>201.2</td>\n",
       "      <td>38.0</td>\n",
       "      <td>110.8</td>\n",
       "    </tr>\n",
       "    <tr>\n",
       "      <th>2</th>\n",
       "      <td>False</td>\n",
       "      <td>312.1</td>\n",
       "      <td>8.8</td>\n",
       "      <td>20.9</td>\n",
       "      <td>29.7</td>\n",
       "      <td>60.8</td>\n",
       "      <td>0.1</td>\n",
       "      <td>185.0</td>\n",
       "      <td>12.1</td>\n",
       "      <td>-65.4</td>\n",
       "      <td>372.9</td>\n",
       "      <td>335.6</td>\n",
       "      <td>221.0</td>\n",
       "      <td>132.2</td>\n",
       "      <td>77.1</td>\n",
       "      <td>211.1</td>\n",
       "      <td>39.9</td>\n",
       "      <td>160.0</td>\n",
       "    </tr>\n",
       "    <tr>\n",
       "      <th>3</th>\n",
       "      <td>False</td>\n",
       "      <td>337.3</td>\n",
       "      <td>9.3</td>\n",
       "      <td>30.7</td>\n",
       "      <td>40.0</td>\n",
       "      <td>77.4</td>\n",
       "      <td>0.1</td>\n",
       "      <td>309.4</td>\n",
       "      <td>19.4</td>\n",
       "      <td>-45.9</td>\n",
       "      <td>414.6</td>\n",
       "      <td>362.9</td>\n",
       "      <td>234.3</td>\n",
       "      <td>144.2</td>\n",
       "      <td>77.1</td>\n",
       "      <td>215.4</td>\n",
       "      <td>46.6</td>\n",
       "      <td>179.7</td>\n",
       "    </tr>\n",
       "    <tr>\n",
       "      <th>4</th>\n",
       "      <td>False</td>\n",
       "      <td>402.3</td>\n",
       "      <td>14.7</td>\n",
       "      <td>2.2</td>\n",
       "      <td>16.9</td>\n",
       "      <td>79.0</td>\n",
       "      <td>79.2</td>\n",
       "      <td>196.4</td>\n",
       "      <td>0.0</td>\n",
       "      <td>-45.9</td>\n",
       "      <td>481.3</td>\n",
       "      <td>478.5</td>\n",
       "      <td>248.2</td>\n",
       "      <td>178.4</td>\n",
       "      <td>77.1</td>\n",
       "      <td>325.1</td>\n",
       "      <td>77.7</td>\n",
       "      <td>199.3</td>\n",
       "    </tr>\n",
       "  </tbody>\n",
       "</table>\n",
       "</div>"
      ],
      "text/plain": [
       "   label  Cost of Goods Sold  Depreciation Depletion Amortization  EBIT  \\\n",
       "0  False               246.5                                  5.5  30.0   \n",
       "1  False               268.5                                  6.9  18.6   \n",
       "2  False               312.1                                  8.8  20.9   \n",
       "3  False               337.3                                  9.3  30.7   \n",
       "4  False               402.3                                 14.7   2.2   \n",
       "\n",
       "   EBITDA  Gross Profit  Long-Term Debt  Market Cap  Net Income  \\\n",
       "0    35.5          56.2             3.9       171.0        33.6   \n",
       "1    25.5          56.6             0.6       203.3        36.3   \n",
       "2    29.7          60.8             0.1       185.0        12.1   \n",
       "3    40.0          77.4             0.1       309.4        19.4   \n",
       "4    16.9          79.0            79.2       196.4         0.0   \n",
       "\n",
       "   Retained Earnings  Revenue  Total Assets  Total Current Assets  \\\n",
       "0             -113.7    302.7         275.1                 154.0   \n",
       "1              -77.4    325.2         307.8                 185.3   \n",
       "2              -65.4    372.9         335.6                 221.0   \n",
       "3              -45.9    414.6         362.9                 234.3   \n",
       "4              -45.9    481.3         478.5                 248.2   \n",
       "\n",
       "   Total Current Liabilities  Total Inventories  Total Liabilities  \\\n",
       "0                      117.6               77.1              207.3   \n",
       "1                      123.7               77.1              201.2   \n",
       "2                      132.2               77.1              211.1   \n",
       "3                      144.2               77.1              215.4   \n",
       "4                      178.4               77.1              325.1   \n",
       "\n",
       "   Total Operating Expense  Total Receivables  \n",
       "0                     26.2               96.2  \n",
       "1                     38.0              110.8  \n",
       "2                     39.9              160.0  \n",
       "3                     46.6              179.7  \n",
       "4                     77.7              199.3  "
      ]
     },
     "execution_count": 2,
     "metadata": {},
     "output_type": "execute_result"
    }
   ],
   "source": [
    "dataset = pd.read_csv('../data/numerical_dataset_original.csv')\n",
    "dataset.drop(['cik', 'subset', 'ticker', 'Fiscal Period'], axis=1, inplace=True)\n",
    "dataset.head()"
   ]
  },
  {
   "cell_type": "markdown",
   "id": "4e2fa367",
   "metadata": {},
   "source": [
    "### 3.1 Podział na zbiory test i train"
   ]
  },
  {
   "cell_type": "code",
   "execution_count": 4,
   "id": "381c4aad",
   "metadata": {},
   "outputs": [
    {
     "data": {
      "text/plain": [
       "(22330, 19)"
      ]
     },
     "execution_count": 4,
     "metadata": {},
     "output_type": "execute_result"
    }
   ],
   "source": [
    "dataset = split_train_test(dataset, 2025, 0.1)\n",
    "dataset.head()\n",
    "dataset.shape"
   ]
  },
  {
   "cell_type": "markdown",
   "id": "caddfb48",
   "metadata": {},
   "source": [
    "### 3.2 Nadpróbkowanie SMOTE\n",
    "\n",
    "Zbiór wymaga zbalansowania klas, poniewaz spółek bankrutujących jest znacznie mniej."
   ]
  },
  {
   "cell_type": "code",
   "execution_count": 9,
   "id": "2e0fb5f0",
   "metadata": {},
   "outputs": [
    {
     "data": {
      "image/png": "[encoded data removed]",
      "text/plain": [
       "<Figure size 800x500 with 1 Axes>"
      ]
     },
     "metadata": {},
     "output_type": "display_data"
    }
   ],
   "source": [
    "subsets = ['train', 'test']\n",
    "data = []\n",
    "for subset in subsets:\n",
    "    counts = dataset[dataset['subset'] == subset]['label'].value_counts(normalize=True)\n",
    "    for label, proportion in counts.items():\n",
    "        data.append({'subset': subset, 'label': label, 'proportion': proportion})\n",
    "\n",
    "df_plot = pd.DataFrame(data)\n",
    "\n",
    "plt.figure(figsize=(8, 5))\n",
    "sns.barplot(data=df_plot, x='subset', y='proportion', hue='label', order=subsets, hue_order=[False, True])\n",
    "plt.title('Class Distribution by Subset')\n",
    "plt.ylabel('Proportion')\n",
    "plt.xlabel('Subset')\n",
    "plt.legend(title='Label')\n",
    "plt.tight_layout()\n",
    "plt.show()"
   ]
  },
  {
   "cell_type": "code",
   "execution_count": 5,
   "id": "03d3ba9a",
   "metadata": {},
   "outputs": [
    {
     "data": {
      "text/plain": [
       "(41755, 19)"
      ]
     },
     "execution_count": 5,
     "metadata": {},
     "output_type": "execute_result"
    }
   ],
   "source": [
    "flatten_dataset = flatten_financial_dataset(dataset, 5)\n",
    "flatten_dataset = oversample_train_subset(flatten_dataset, 2025)\n",
    "dataset = deflatten_financial_dataset(flatten_dataset)\n",
    "dataset.head()\n",
    "dataset.shape"
   ]
  },
  {
   "cell_type": "code",
   "execution_count": 11,
   "id": "942cc54f",
   "metadata": {},
   "outputs": [
    {
     "data": {
      "image/png": "[encoded data removed]",
      "text/plain": [
       "<Figure size 800x500 with 1 Axes>"
      ]
     },
     "metadata": {},
     "output_type": "display_data"
    }
   ],
   "source": [
    "subsets = ['train', 'test']\n",
    "data = []\n",
    "for subset in subsets:\n",
    "    counts = dataset[dataset['subset'] == subset]['label'].value_counts(normalize=True)\n",
    "    for label, proportion in counts.items():\n",
    "        data.append({'subset': subset, 'label': label, 'proportion': proportion})\n",
    "\n",
    "df_plot = pd.DataFrame(data)\n",
    "\n",
    "plt.figure(figsize=(8, 5))\n",
    "sns.barplot(data=df_plot, x='subset', y='proportion', hue='label', order=subsets, hue_order=[False, True])\n",
    "plt.title('Class Distribution by Subset')\n",
    "plt.ylabel('Proportion')\n",
    "plt.xlabel('Subset')\n",
    "plt.legend(title='Label')\n",
    "plt.tight_layout()\n",
    "plt.show()"
   ]
  },
  {
   "cell_type": "markdown",
   "id": "e554c5fa",
   "metadata": {},
   "source": [
    "### 3.5 Wzbogacanie danych (Data Enrichment)\n",
    "W zbiorze danych brakuje kilku ważnych wskaźników finansowych, jednak można je wyliczyć na podstawie już dostępnych cech."
   ]
  },
  {
   "cell_type": "code",
   "execution_count": 16,
   "id": "04fb6757",
   "metadata": {},
   "outputs": [
    {
     "data": {
      "application/vnd.microsoft.datawrangler.viewer.v0+json": {
       "columns": [
        {
         "name": "index",
         "rawType": "int64",
         "type": "integer"
        },
        {
         "name": "label",
         "rawType": "bool",
         "type": "boolean"
        },
        {
         "name": "subset",
         "rawType": "object",
         "type": "string"
        },
        {
         "name": "Cost of Goods Sold",
         "rawType": "float64",
         "type": "float"
        },
        {
         "name": "Depreciation Depletion Amortization",
         "rawType": "float64",
         "type": "float"
        },
        {
         "name": "EBIT",
         "rawType": "float64",
         "type": "float"
        },
        {
         "name": "EBITDA",
         "rawType": "float64",
         "type": "float"
        },
        {
         "name": "Gross Profit",
         "rawType": "float64",
         "type": "float"
        },
        {
         "name": "Long-Term Debt",
         "rawType": "float64",
         "type": "float"
        },
        {
         "name": "Market Cap",
         "rawType": "float64",
         "type": "float"
        },
        {
         "name": "Net Income",
         "rawType": "float64",
         "type": "float"
        },
        {
         "name": "Retained Earnings",
         "rawType": "float64",
         "type": "float"
        },
        {
         "name": "Revenue",
         "rawType": "float64",
         "type": "float"
        },
        {
         "name": "Total Assets",
         "rawType": "float64",
         "type": "float"
        },
        {
         "name": "Total Current Assets",
         "rawType": "float64",
         "type": "float"
        },
        {
         "name": "Total Current Liabilities",
         "rawType": "float64",
         "type": "float"
        },
        {
         "name": "Total Inventories",
         "rawType": "float64",
         "type": "float"
        },
        {
         "name": "Total Liabilities",
         "rawType": "float64",
         "type": "float"
        },
        {
         "name": "Total Operating Expense",
         "rawType": "float64",
         "type": "float"
        },
        {
         "name": "Total Receivables",
         "rawType": "float64",
         "type": "float"
        },
        {
         "name": "Net Profit Margin percentage",
         "rawType": "float64",
         "type": "float"
        },
        {
         "name": "EBITDA Margin percentage",
         "rawType": "float64",
         "type": "float"
        },
        {
         "name": "Gross Profit Margin percentage",
         "rawType": "float64",
         "type": "float"
        },
        {
         "name": "ROA percentage",
         "rawType": "float64",
         "type": "float"
        },
        {
         "name": "Current Ratio",
         "rawType": "float64",
         "type": "float"
        },
        {
         "name": "Quick Ratio",
         "rawType": "float64",
         "type": "float"
        },
        {
         "name": "Liabilities-to-Assets Ratio",
         "rawType": "float64",
         "type": "float"
        },
        {
         "name": "Total Equity",
         "rawType": "float64",
         "type": "float"
        },
        {
         "name": "Equity-to-Asset",
         "rawType": "float64",
         "type": "float"
        },
        {
         "name": "Asset Turnover",
         "rawType": "float64",
         "type": "float"
        },
        {
         "name": "Receivables Turnover",
         "rawType": "float64",
         "type": "float"
        },
        {
         "name": "Inventory Turnover",
         "rawType": "float64",
         "type": "float"
        },
        {
         "name": "PE Ratio",
         "rawType": "float64",
         "type": "float"
        }
       ],
       "ref": "f8300aa8-e8fb-4ddc-821b-d3752739c3a4",
       "rows": [
        [
         "0",
         "False",
         "train",
         "246.5",
         "5.5",
         "30.0",
         "35.5",
         "56.2",
         "3.9",
         "171.0",
         "33.6",
         "-113.7",
         "302.7",
         "275.1",
         "154.0",
         "117.6",
         "77.1",
         "207.3",
         "26.2",
         "96.2",
         "11.1",
         "11.73",
         "18.57",
         "12.21",
         "1.31",
         "0.65",
         "0.75",
         "67.8",
         "0.25",
         "1.1",
         "3.15",
         "3.2",
         "5.09"
        ],
        [
         "1",
         "False",
         "train",
         "268.5",
         "6.9",
         "18.6",
         "25.5",
         "56.6",
         "0.6",
         "203.3",
         "36.3",
         "-77.4",
         "325.2",
         "307.8",
         "185.3",
         "123.7",
         "77.1",
         "201.2",
         "38.0",
         "110.8",
         "11.16",
         "7.84",
         "17.4",
         "11.79",
         "1.5",
         "0.87",
         "0.65",
         "106.6",
         "0.35",
         "1.06",
         "2.94",
         "3.48",
         "5.6"
        ],
        [
         "2",
         "False",
         "train",
         "312.1",
         "8.8",
         "20.9",
         "29.7",
         "60.8",
         "0.1",
         "185.0",
         "12.1",
         "-65.4",
         "372.9",
         "335.6",
         "221.0",
         "132.2",
         "77.1",
         "211.1",
         "39.9",
         "160.0",
         "3.24",
         "7.96",
         "16.3",
         "3.61",
         "1.67",
         "1.09",
         "0.63",
         "124.5",
         "0.37",
         "1.11",
         "2.33",
         "4.05",
         "15.29"
        ],
        [
         "3",
         "False",
         "train",
         "337.3",
         "9.3",
         "30.7",
         "40.0",
         "77.4",
         "0.1",
         "309.4",
         "19.4",
         "-45.9",
         "414.6",
         "362.9",
         "234.3",
         "144.2",
         "77.1",
         "215.4",
         "46.6",
         "179.7",
         "4.68",
         "9.65",
         "18.67",
         "5.35",
         "1.62",
         "1.09",
         "0.59",
         "147.5",
         "0.41",
         "1.14",
         "2.31",
         "4.37",
         "15.95"
        ],
        [
         "4",
         "False",
         "train",
         "402.3",
         "14.7",
         "2.2",
         "16.9",
         "79.0",
         "79.2",
         "196.4",
         "0.0",
         "-45.9",
         "481.3",
         "478.5",
         "248.2",
         "178.4",
         "77.1",
         "325.1",
         "77.7",
         "199.3",
         "0.0",
         "3.51",
         "16.41",
         "0.0",
         "1.39",
         "0.96",
         "0.68",
         "153.4",
         "0.32",
         "1.01",
         "2.41",
         "5.22",
         "0.0"
        ]
       ],
       "shape": {
        "columns": 32,
        "rows": 5
       }
      },
      "text/html": [
       "<div>\n",
       "<style scoped>\n",
       "    .dataframe tbody tr th:only-of-type {\n",
       "        vertical-align: middle;\n",
       "    }\n",
       "\n",
       "    .dataframe tbody tr th {\n",
       "        vertical-align: top;\n",
       "    }\n",
       "\n",
       "    .dataframe thead th {\n",
       "        text-align: right;\n",
       "    }\n",
       "</style>\n",
       "<table border=\"1\" class=\"dataframe\">\n",
       "  <thead>\n",
       "    <tr style=\"text-align: right;\">\n",
       "      <th></th>\n",
       "      <th>label</th>\n",
       "      <th>subset</th>\n",
       "      <th>Cost of Goods Sold</th>\n",
       "      <th>Depreciation Depletion Amortization</th>\n",
       "      <th>EBIT</th>\n",
       "      <th>EBITDA</th>\n",
       "      <th>Gross Profit</th>\n",
       "      <th>Long-Term Debt</th>\n",
       "      <th>Market Cap</th>\n",
       "      <th>Net Income</th>\n",
       "      <th>...</th>\n",
       "      <th>ROA percentage</th>\n",
       "      <th>Current Ratio</th>\n",
       "      <th>Quick Ratio</th>\n",
       "      <th>Liabilities-to-Assets Ratio</th>\n",
       "      <th>Total Equity</th>\n",
       "      <th>Equity-to-Asset</th>\n",
       "      <th>Asset Turnover</th>\n",
       "      <th>Receivables Turnover</th>\n",
       "      <th>Inventory Turnover</th>\n",
       "      <th>PE Ratio</th>\n",
       "    </tr>\n",
       "  </thead>\n",
       "  <tbody>\n",
       "    <tr>\n",
       "      <th>0</th>\n",
       "      <td>False</td>\n",
       "      <td>train</td>\n",
       "      <td>246.5</td>\n",
       "      <td>5.5</td>\n",
       "      <td>30.0</td>\n",
       "      <td>35.5</td>\n",
       "      <td>56.2</td>\n",
       "      <td>3.9</td>\n",
       "      <td>171.0</td>\n",
       "      <td>33.6</td>\n",
       "      <td>...</td>\n",
       "      <td>12.21</td>\n",
       "      <td>1.31</td>\n",
       "      <td>0.65</td>\n",
       "      <td>0.75</td>\n",
       "      <td>67.8</td>\n",
       "      <td>0.25</td>\n",
       "      <td>1.10</td>\n",
       "      <td>3.15</td>\n",
       "      <td>3.20</td>\n",
       "      <td>5.09</td>\n",
       "    </tr>\n",
       "    <tr>\n",
       "      <th>1</th>\n",
       "      <td>False</td>\n",
       "      <td>train</td>\n",
       "      <td>268.5</td>\n",
       "      <td>6.9</td>\n",
       "      <td>18.6</td>\n",
       "      <td>25.5</td>\n",
       "      <td>56.6</td>\n",
       "      <td>0.6</td>\n",
       "      <td>203.3</td>\n",
       "      <td>36.3</td>\n",
       "      <td>...</td>\n",
       "      <td>11.79</td>\n",
       "      <td>1.50</td>\n",
       "      <td>0.87</td>\n",
       "      <td>0.65</td>\n",
       "      <td>106.6</td>\n",
       "      <td>0.35</td>\n",
       "      <td>1.06</td>\n",
       "      <td>2.94</td>\n",
       "      <td>3.48</td>\n",
       "      <td>5.60</td>\n",
       "    </tr>\n",
       "    <tr>\n",
       "      <th>2</th>\n",
       "      <td>False</td>\n",
       "      <td>train</td>\n",
       "      <td>312.1</td>\n",
       "      <td>8.8</td>\n",
       "      <td>20.9</td>\n",
       "      <td>29.7</td>\n",
       "      <td>60.8</td>\n",
       "      <td>0.1</td>\n",
       "      <td>185.0</td>\n",
       "      <td>12.1</td>\n",
       "      <td>...</td>\n",
       "      <td>3.61</td>\n",
       "      <td>1.67</td>\n",
       "      <td>1.09</td>\n",
       "      <td>0.63</td>\n",
       "      <td>124.5</td>\n",
       "      <td>0.37</td>\n",
       "      <td>1.11</td>\n",
       "      <td>2.33</td>\n",
       "      <td>4.05</td>\n",
       "      <td>15.29</td>\n",
       "    </tr>\n",
       "    <tr>\n",
       "      <th>3</th>\n",
       "      <td>False</td>\n",
       "      <td>train</td>\n",
       "      <td>337.3</td>\n",
       "      <td>9.3</td>\n",
       "      <td>30.7</td>\n",
       "      <td>40.0</td>\n",
       "      <td>77.4</td>\n",
       "      <td>0.1</td>\n",
       "      <td>309.4</td>\n",
       "      <td>19.4</td>\n",
       "      <td>...</td>\n",
       "      <td>5.35</td>\n",
       "      <td>1.62</td>\n",
       "      <td>1.09</td>\n",
       "      <td>0.59</td>\n",
       "      <td>147.5</td>\n",
       "      <td>0.41</td>\n",
       "      <td>1.14</td>\n",
       "      <td>2.31</td>\n",
       "      <td>4.37</td>\n",
       "      <td>15.95</td>\n",
       "    </tr>\n",
       "    <tr>\n",
       "      <th>4</th>\n",
       "      <td>False</td>\n",
       "      <td>train</td>\n",
       "      <td>402.3</td>\n",
       "      <td>14.7</td>\n",
       "      <td>2.2</td>\n",
       "      <td>16.9</td>\n",
       "      <td>79.0</td>\n",
       "      <td>79.2</td>\n",
       "      <td>196.4</td>\n",
       "      <td>0.0</td>\n",
       "      <td>...</td>\n",
       "      <td>0.00</td>\n",
       "      <td>1.39</td>\n",
       "      <td>0.96</td>\n",
       "      <td>0.68</td>\n",
       "      <td>153.4</td>\n",
       "      <td>0.32</td>\n",
       "      <td>1.01</td>\n",
       "      <td>2.41</td>\n",
       "      <td>5.22</td>\n",
       "      <td>0.00</td>\n",
       "    </tr>\n",
       "  </tbody>\n",
       "</table>\n",
       "<p>5 rows × 32 columns</p>\n",
       "</div>"
      ],
      "text/plain": [
       "   label subset  Cost of Goods Sold  Depreciation Depletion Amortization  \\\n",
       "0  False  train               246.5                                  5.5   \n",
       "1  False  train               268.5                                  6.9   \n",
       "2  False  train               312.1                                  8.8   \n",
       "3  False  train               337.3                                  9.3   \n",
       "4  False  train               402.3                                 14.7   \n",
       "\n",
       "   EBIT  EBITDA  Gross Profit  Long-Term Debt  Market Cap  Net Income  ...  \\\n",
       "0  30.0    35.5          56.2             3.9       171.0        33.6  ...   \n",
       "1  18.6    25.5          56.6             0.6       203.3        36.3  ...   \n",
       "2  20.9    29.7          60.8             0.1       185.0        12.1  ...   \n",
       "3  30.7    40.0          77.4             0.1       309.4        19.4  ...   \n",
       "4   2.2    16.9          79.0            79.2       196.4         0.0  ...   \n",
       "\n",
       "   ROA percentage  Current Ratio  Quick Ratio  Liabilities-to-Assets Ratio  \\\n",
       "0           12.21           1.31         0.65                         0.75   \n",
       "1           11.79           1.50         0.87                         0.65   \n",
       "2            3.61           1.67         1.09                         0.63   \n",
       "3            5.35           1.62         1.09                         0.59   \n",
       "4            0.00           1.39         0.96                         0.68   \n",
       "\n",
       "   Total Equity  Equity-to-Asset  Asset Turnover  Receivables Turnover  \\\n",
       "0          67.8             0.25            1.10                  3.15   \n",
       "1         106.6             0.35            1.06                  2.94   \n",
       "2         124.5             0.37            1.11                  2.33   \n",
       "3         147.5             0.41            1.14                  2.31   \n",
       "4         153.4             0.32            1.01                  2.41   \n",
       "\n",
       "   Inventory Turnover  PE Ratio  \n",
       "0                3.20      5.09  \n",
       "1                3.48      5.60  \n",
       "2                4.05     15.29  \n",
       "3                4.37     15.95  \n",
       "4                5.22      0.00  \n",
       "\n",
       "[5 rows x 32 columns]"
      ]
     },
     "execution_count": 16,
     "metadata": {},
     "output_type": "execute_result"
    }
   ],
   "source": [
    "dataset = calculate_ratios(dataset)\n",
    "dataset.columns\n",
    "dataset.head()"
   ]
  },
  {
   "cell_type": "markdown",
   "id": "91aecaa1",
   "metadata": {},
   "source": [
    "Sprawdzamy teraz, czy wskaźniki zostały obliczone poprawnie. Porównamy uzyskane wartości ze wskaźnikami ze strony: https://www.gurufocus.com/stock/ADNT/financials.\n",
    "Porównanie zostanie przeprowadzone dla spółek o tickerach: ADNT i PAYX, ponieważ mają one stosunkowo świeże dane (do 2021 roku) i są łatwo dostępne na portalu GuruFocus."
   ]
  },
  {
   "cell_type": "markdown",
   "id": "545be326",
   "metadata": {},
   "source": [
    "Dopasowane wskaźniki:\n",
    "- Net Profit Margin (marża zysku netto)\n",
    "- EBITDA Margin (marża EBITDA)\n",
    "\n",
    "- Gross Profit Margin (marża zysku brutto)\n",
    "\n",
    "- Current Ratio (wskaźnik płynności bieżącej)\n",
    "\n",
    "- Quick Ratio (wskaźnik płynności szybkiej)\n",
    "\n",
    "- Liabilities-to-Assets Ratio (stosunek zobowiązań do aktywów)\n",
    "\n",
    "- Asset Turnover Ratio (rotacja aktywów)\n",
    "\n",
    "- P/E Ratio (wskaźnik cena/zysk)\n",
    "\n",
    "- Receivables Turnover – podobny, różnica wynika z użycia „Total Receivables” zamiast „Average Accounts Receivable”\n",
    "\n",
    "- Inventory Turnover – podobny, różnica wynika z użycia „Total Inventories” zamiast „Average Inventory”\n",
    "\n",
    "- ROA (zwrot z aktywów) – prawie taki sam, różnica wynika z użycia „Total Assets” zamiast „Average Total Assets”\n",
    "\n",
    "- Equity-to-Asset – prawie taki sam, różnica wynika z użycia „Total Assets” zamiast „Average Total Assets”"
   ]
  },
  {
   "cell_type": "markdown",
   "id": "29265fe6",
   "metadata": {},
   "source": [
    "Po sprawdzeniu danych, okazało się, że są wskaźniki których nie da się wyliczyć z istniejących wartości lub nie są poprawne, więc je usunięto:\n",
    "- Operating Profit Margin – wymaga cechy Operating Income, której nie ma w zbiorze danych. Zastąpienie jej przez EBIT byłoby błędne, ponieważ EBIT liczy się inaczej.\n",
    "\n",
    "- Debt to Equity Ratio – = Total Liabilities / Shareholders' Equity, gdzie Shareholders' Equity = Total Assets - Total Liabilities, ale obliczenia nie są poprawne.\n",
    "\n",
    "- Debt to Assets Ratio – nie można obliczyć, ponieważ brakuje cechy Total Debt.\n",
    "\n",
    "- Enterprise Value (EV) – = Market Cap + Total Debt - Cash and Cash Equivalents, ale Total Debt oraz Cash and Cash Equivalents nie są dostępne.\n",
    "\n",
    "- EV/EBITDA Ratio – nie można obliczyć z powodu braku EV.\n",
    "\n",
    "- ROE – wymaga Shareholders' Equity, której nie ma w zbiorze."
   ]
  },
  {
   "cell_type": "code",
   "execution_count": 33,
   "id": "f0bb3bd7",
   "metadata": {},
   "outputs": [
    {
     "name": "stdout",
     "output_type": "stream",
     "text": [
      "Nans in the dataset: 0\n"
     ]
    }
   ],
   "source": [
    "enriched[calculated_features] = enriched[calculated_features].fillna(0)\n",
    "print(f\"Nans in the dataset: {enriched.isnull().sum().sum()}\")"
   ]
  },
  {
   "cell_type": "code",
   "execution_count": 35,
   "id": "36f08fd0",
   "metadata": {},
   "outputs": [
    {
     "data": {
      "text/plain": [
       "Depreciation Depletion Amortization    519\n",
       "Net Profit Margin percentage           467\n",
       "ROA percentage                         444\n",
       "PE Ratio                               440\n",
       "Net Income                             432\n",
       "EBIT                                   341\n",
       "EBITDA Margin percentage               320\n",
       "EBITDA                                 285\n",
       "Long-Term Debt                         269\n",
       "Inventory Turnover                     215\n",
       "Retained Earnings                      203\n",
       "Receivables Turnover                   146\n",
       "Asset Turnover                         128\n",
       "Total Receivables                      128\n",
       "Equity-to-Asset                        118\n",
       "Cost of Goods Sold                      96\n",
       "Total Inventories                       80\n",
       "Quick Ratio                             69\n",
       "Gross Profit Margin percentage          67\n",
       "Gross Profit                            46\n",
       "Liabilities-to-Assets Ratio             35\n",
       "Revenue                                 35\n",
       "Current Ratio                           26\n",
       "Total Equity                            26\n",
       "Total Current Liabilities               16\n",
       "Total Current Assets                    15\n",
       "Total Operating Expense                 14\n",
       "Total Liabilities                       11\n",
       "Total Assets                            10\n",
       "Market Cap                               3\n",
       "dtype: int64"
      ]
     },
     "execution_count": 35,
     "metadata": {},
     "output_type": "execute_result"
    }
   ],
   "source": [
    "metadata_columns_count = 1\n",
    "enriched_zeros_values_count_per_col = enriched.iloc[:, metadata_columns_count:][enriched == 0].count()\n",
    "enriched_all_values_count = enriched.iloc[:, metadata_columns_count:].count().sum()\n",
    "enriched_zeros_values_count_per_col.sort_values(ascending=False)"
   ]
  },
  {
   "cell_type": "code",
   "execution_count": 36,
   "id": "33439548",
   "metadata": {},
   "outputs": [
    {
     "name": "stdout",
     "output_type": "stream",
     "text": [
      "Percentage of zeros in the dataset: 0.46%\n"
     ]
    }
   ],
   "source": [
    "print(f'Percentage of zeros in the dataset: {enriched_zeros_values_count_per_col.sum() / enriched_all_values_count * 100:.2f}%')"
   ]
  },
  {
   "cell_type": "markdown",
   "id": "a9e0235e",
   "metadata": {},
   "source": [
    "Zaobserwowano, że odsetek zer w zbiorze danych wzrósł o 0,05%, jednak nadal jest on bardzo niski, co nie wpływa znacząco na jakość danych."
   ]
  },
  {
   "cell_type": "markdown",
   "id": "5cc81f08",
   "metadata": {},
   "source": [
    "### 3.6 Spłaszaczanie danych"
   ]
  },
  {
   "cell_type": "code",
   "execution_count": null,
   "id": "98aaa800",
   "metadata": {},
   "outputs": [],
   "source": [
    "dataset = flatten_financial_dataset(dataset, 5)"
   ]
  },
  {
   "cell_type": "markdown",
   "id": "5bc61126",
   "metadata": {},
   "source": [
    "### 3.7 Normalizacja"
   ]
  },
  {
   "cell_type": "code",
   "execution_count": null,
   "id": "64de1850",
   "metadata": {},
   "outputs": [],
   "source": [
    "scaler = StandardScaler()\n",
    "X_train = scaler.fit_transform(X_train)\n",
    "X_test = scaler.transform(X_test)"
   ]
  },
  {
   "cell_type": "code",
   "execution_count": 7,
   "id": "0c0afc98",
   "metadata": {},
   "outputs": [
    {
     "data": {
      "application/vnd.microsoft.datawrangler.viewer.v0+json": {
       "columns": [
        {
         "name": "label",
         "rawType": "bool",
         "type": "boolean"
        },
        {
         "name": "count",
         "rawType": "float64",
         "type": "float"
        }
       ],
       "ref": "ae4d93aa-b04c-41bf-b885-0edc7a289382",
       "rows": [
        [
         "False",
         "667.0"
        ],
        [
         "True",
         "11.0"
        ]
       ],
       "shape": {
        "columns": 1,
        "rows": 2
       }
      },
      "text/plain": [
       "label\n",
       "False    667.0\n",
       "True      11.0\n",
       "Name: count, dtype: float64"
      ]
     },
     "execution_count": 7,
     "metadata": {},
     "output_type": "execute_result"
    }
   ],
   "source": [
    "dataset = pd.read_csv('../data/numerical_dataset_original.csv')\n",
    "dataset[dataset['subset'] == 'test']['label'].value_counts()/5"
   ]
  }
 ],
 "metadata": {
  "kernelspec": {
   "display_name": "Python 3",
   "language": "python",
   "name": "python3"
  },
  "language_info": {
   "codemirror_mode": {
    "name": "ipython",
    "version": 3
   },
   "file_extension": ".py",
   "mimetype": "text/x-python",
   "name": "python",
   "nbconvert_exporter": "python",
   "pygments_lexer": "ipython3",
   "version": "3.11.0"
  }
 },
 "nbformat": 4,
 "nbformat_minor": 5
}
