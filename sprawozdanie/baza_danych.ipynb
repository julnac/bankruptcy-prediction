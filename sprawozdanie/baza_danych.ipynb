{
 "cells": [
  {
   "cell_type": "code",
   "execution_count": 12,
   "id": "f79d622d",
   "metadata": {},
   "outputs": [],
   "source": [
    "import pandas as pd\n",
    "import numpy as np\n",
    "import math\n",
    "\n",
    "import matplotlib.pyplot as plt\n",
    "from matplotlib.patches import Rectangle\n",
    "import seaborn as sns\n",
    "\n",
    "import sys\n",
    "import os\n",
    "sys.path.append(os.path.abspath('../'))\n",
    "\n",
    "from model_search.model_service import calculate_ratios, calculated_features"
   ]
  },
  {
   "cell_type": "markdown",
   "id": "9294faae",
   "metadata": {},
   "source": [
    "## 1. Cel projektu\n",
    "\n",
    "Do projektu wykorzystano zbiór danych finansowych spółek amerykańskich, zawierający dane liczbowe z pięciu kolejnych lat działalności każdej firmy. Celem klasyfikacji jest przewidzenie, czy dana spółka zbankrutuje w ciągu roku od ostatniego okresu sprawozdawczego. Dane zostały pozyskane z [githuba](https://github.com/grepoz/multimodal-bankruptcy-dataset), a oryginalnie pochodzą z portalu [Gurufocus](https://www.gurufocus.com).\n",
    "\n",
    "## 2. Baza danych"
   ]
  },
  {
   "cell_type": "markdown",
   "id": "62b3d376",
   "metadata": {},
   "source": [
    "\n",
    "### 2.1 Struktura danych\n",
    "\n",
    "Zbiór danych zawiera łącznie **7214 spółek**, z czego dane dla **2748 firm (około 38%) zostały syntetycznie wygenerowane** na potrzeby zbalansowania klas. Dane są już wstępnie podzielone na podzbiory: train, val oraz test.\n",
    "\n",
    "Każda firma reprezentowana jest przez **5 wierszy** – każdy odpowiada jednemu rokowi danych finansowych. Każdy wiersz zawiera zarówno dane (cechy finansowe), jak i zmienną zależną (ang. dependent variable) \"label\", która określa to, czy firma zbankrutowała w ciągu roku od zakończenia okresu sprawozdawczego (True) lub nie (False)."
   ]
  },
  {
   "cell_type": "code",
   "execution_count": 15,
   "id": "741efbca",
   "metadata": {},
   "outputs": [
    {
     "name": "stdout",
     "output_type": "stream",
     "text": [
      "(36070, 22)\n"
     ]
    },
    {
     "data": {
      "text/html": [
       "<div>\n",
       "<style scoped>\n",
       "    .dataframe tbody tr th:only-of-type {\n",
       "        vertical-align: middle;\n",
       "    }\n",
       "\n",
       "    .dataframe tbody tr th {\n",
       "        vertical-align: top;\n",
       "    }\n",
       "\n",
       "    .dataframe thead th {\n",
       "        text-align: right;\n",
       "    }\n",
       "</style>\n",
       "<table border=\"1\" class=\"dataframe\">\n",
       "  <thead>\n",
       "    <tr style=\"text-align: right;\">\n",
       "      <th></th>\n",
       "      <th>cik</th>\n",
       "      <th>ticker</th>\n",
       "      <th>label</th>\n",
       "      <th>subset</th>\n",
       "      <th>Fiscal Period</th>\n",
       "      <th>Cost of Goods Sold</th>\n",
       "      <th>Depreciation Depletion Amortization</th>\n",
       "      <th>EBIT</th>\n",
       "      <th>EBITDA</th>\n",
       "      <th>Gross Profit</th>\n",
       "      <th>...</th>\n",
       "      <th>Net Income</th>\n",
       "      <th>Retained Earnings</th>\n",
       "      <th>Revenue</th>\n",
       "      <th>Total Assets</th>\n",
       "      <th>Total Current Assets</th>\n",
       "      <th>Total Current Liabilities</th>\n",
       "      <th>Total Inventories</th>\n",
       "      <th>Total Liabilities</th>\n",
       "      <th>Total Operating Expense</th>\n",
       "      <th>Total Receivables</th>\n",
       "    </tr>\n",
       "  </thead>\n",
       "  <tbody>\n",
       "    <tr>\n",
       "      <th>0</th>\n",
       "      <td>737874</td>\n",
       "      <td>LI</td>\n",
       "      <td>False</td>\n",
       "      <td>train</td>\n",
       "      <td>Aug 2002</td>\n",
       "      <td>479.0</td>\n",
       "      <td>281.0</td>\n",
       "      <td>1028.0</td>\n",
       "      <td>1310.0</td>\n",
       "      <td>4004.0</td>\n",
       "      <td>...</td>\n",
       "      <td>-1223.0</td>\n",
       "      <td>-10.0</td>\n",
       "      <td>4483.0</td>\n",
       "      <td>3853.0</td>\n",
       "      <td>948.0</td>\n",
       "      <td>695.0</td>\n",
       "      <td>50.0</td>\n",
       "      <td>2562.0</td>\n",
       "      <td>3829.0</td>\n",
       "      <td>570.0</td>\n",
       "    </tr>\n",
       "    <tr>\n",
       "      <th>1</th>\n",
       "      <td>737874</td>\n",
       "      <td>LI</td>\n",
       "      <td>False</td>\n",
       "      <td>train</td>\n",
       "      <td>Aug 2003</td>\n",
       "      <td>479.0</td>\n",
       "      <td>281.0</td>\n",
       "      <td>1028.0</td>\n",
       "      <td>1310.0</td>\n",
       "      <td>4004.0</td>\n",
       "      <td>...</td>\n",
       "      <td>-1223.0</td>\n",
       "      <td>-10.0</td>\n",
       "      <td>4483.0</td>\n",
       "      <td>3853.0</td>\n",
       "      <td>948.0</td>\n",
       "      <td>695.0</td>\n",
       "      <td>50.0</td>\n",
       "      <td>2562.0</td>\n",
       "      <td>3829.0</td>\n",
       "      <td>570.0</td>\n",
       "    </tr>\n",
       "    <tr>\n",
       "      <th>2</th>\n",
       "      <td>737874</td>\n",
       "      <td>LI</td>\n",
       "      <td>False</td>\n",
       "      <td>train</td>\n",
       "      <td>Aug 2004</td>\n",
       "      <td>483.0</td>\n",
       "      <td>284.0</td>\n",
       "      <td>224.0</td>\n",
       "      <td>507.0</td>\n",
       "      <td>4149.0</td>\n",
       "      <td>...</td>\n",
       "      <td>62.0</td>\n",
       "      <td>52.0</td>\n",
       "      <td>4631.0</td>\n",
       "      <td>3905.0</td>\n",
       "      <td>1032.0</td>\n",
       "      <td>687.0</td>\n",
       "      <td>51.0</td>\n",
       "      <td>2529.0</td>\n",
       "      <td>3928.0</td>\n",
       "      <td>588.0</td>\n",
       "    </tr>\n",
       "    <tr>\n",
       "      <th>3</th>\n",
       "      <td>737874</td>\n",
       "      <td>LI</td>\n",
       "      <td>False</td>\n",
       "      <td>train</td>\n",
       "      <td>Aug 2005</td>\n",
       "      <td>579.0</td>\n",
       "      <td>249.0</td>\n",
       "      <td>63.0</td>\n",
       "      <td>312.0</td>\n",
       "      <td>2447.0</td>\n",
       "      <td>...</td>\n",
       "      <td>212.0</td>\n",
       "      <td>249.0</td>\n",
       "      <td>3027.0</td>\n",
       "      <td>2909.0</td>\n",
       "      <td>606.0</td>\n",
       "      <td>448.0</td>\n",
       "      <td>33.0</td>\n",
       "      <td>1309.0</td>\n",
       "      <td>2282.0</td>\n",
       "      <td>203.0</td>\n",
       "    </tr>\n",
       "    <tr>\n",
       "      <th>4</th>\n",
       "      <td>737874</td>\n",
       "      <td>LI</td>\n",
       "      <td>False</td>\n",
       "      <td>train</td>\n",
       "      <td>Aug 2006</td>\n",
       "      <td>582.0</td>\n",
       "      <td>216.0</td>\n",
       "      <td>261.0</td>\n",
       "      <td>477.0</td>\n",
       "      <td>2550.0</td>\n",
       "      <td>...</td>\n",
       "      <td>125.0</td>\n",
       "      <td>315.0</td>\n",
       "      <td>3132.0</td>\n",
       "      <td>3039.0</td>\n",
       "      <td>741.0</td>\n",
       "      <td>531.0</td>\n",
       "      <td>41.0</td>\n",
       "      <td>1831.0</td>\n",
       "      <td>2299.0</td>\n",
       "      <td>211.0</td>\n",
       "    </tr>\n",
       "  </tbody>\n",
       "</table>\n",
       "<p>5 rows × 22 columns</p>\n",
       "</div>"
      ],
      "text/plain": [
       "      cik ticker  label subset Fiscal Period  Cost of Goods Sold  \\\n",
       "0  737874     LI  False  train      Aug 2002               479.0   \n",
       "1  737874     LI  False  train      Aug 2003               479.0   \n",
       "2  737874     LI  False  train      Aug 2004               483.0   \n",
       "3  737874     LI  False  train      Aug 2005               579.0   \n",
       "4  737874     LI  False  train      Aug 2006               582.0   \n",
       "\n",
       "   Depreciation Depletion Amortization    EBIT  EBITDA  Gross Profit  ...  \\\n",
       "0                                281.0  1028.0  1310.0        4004.0  ...   \n",
       "1                                281.0  1028.0  1310.0        4004.0  ...   \n",
       "2                                284.0   224.0   507.0        4149.0  ...   \n",
       "3                                249.0    63.0   312.0        2447.0  ...   \n",
       "4                                216.0   261.0   477.0        2550.0  ...   \n",
       "\n",
       "   Net Income  Retained Earnings  Revenue  Total Assets  Total Current Assets  \\\n",
       "0     -1223.0              -10.0   4483.0        3853.0                 948.0   \n",
       "1     -1223.0              -10.0   4483.0        3853.0                 948.0   \n",
       "2        62.0               52.0   4631.0        3905.0                1032.0   \n",
       "3       212.0              249.0   3027.0        2909.0                 606.0   \n",
       "4       125.0              315.0   3132.0        3039.0                 741.0   \n",
       "\n",
       "   Total Current Liabilities  Total Inventories  Total Liabilities  \\\n",
       "0                      695.0               50.0             2562.0   \n",
       "1                      695.0               50.0             2562.0   \n",
       "2                      687.0               51.0             2529.0   \n",
       "3                      448.0               33.0             1309.0   \n",
       "4                      531.0               41.0             1831.0   \n",
       "\n",
       "   Total Operating Expense  Total Receivables  \n",
       "0                   3829.0              570.0  \n",
       "1                   3829.0              570.0  \n",
       "2                   3928.0              588.0  \n",
       "3                   2282.0              203.0  \n",
       "4                   2299.0              211.0  \n",
       "\n",
       "[5 rows x 22 columns]"
      ]
     },
     "execution_count": 15,
     "metadata": {},
     "output_type": "execute_result"
    }
   ],
   "source": [
    "financial_dataset = pd.read_csv('../data/numerical_dataset_oversampled.csv')\n",
    "print(financial_dataset.shape)\n",
    "financial_dataset.head(5)"
   ]
  },
  {
   "cell_type": "markdown",
   "id": "0c8e197c",
   "metadata": {},
   "source": [
    "### 2.2 Znaczenie kolumn\n",
    "Zbiór danych zawiera następujące typy kolumn:\n",
    "\n",
    "- **Metadane**:\n",
    "  - `cik` – identyfikator spółki (unikalny numer firmy w bazie SEC- Central Index Key),\n",
    "  - `ticker` – skrót giełdowy spółki,\n",
    "  - `Fiscal Period` – okres sprawozdawczy (np. `Dec 2019`),\n",
    "  - `subset` – informacja o przynależności do zbioru `train`, `test` lub `val`.\n",
    "\n",
    "- **Cechy numeryczne** (17 kolumn): zawierają wartości liczbowe dotyczące kondycji finansowej, takie jak np.:\n",
    "  - `Revenue`, `Net Income`, `Total Assets`, `EBITDA`, `Cost of Goods Sold`, `Total Liabilities`, `Operating Cash Flow`, `Depreciation & Amortization`, itp.\n",
    "\n",
    "- **Kolumna docelowa (`label`)** – wartość logiczna (`True`/`False`) oznaczająca, czy spółka zbankrutowała.\n",
    "\n",
    "### 2.3 Klasyfikacja\n",
    "\n",
    "Celem klasyfikacji jest przypisanie każdej spółce odpowiedniej etykiety (`label`) na podstawie danych z ostatnich pięciu lat jej działalności. Jest to problem binarnej klasyfikacji – firma albo zbankrutuje (`True`), albo nie (`False`)."
   ]
  },
  {
   "cell_type": "markdown",
   "id": "34eb91f0",
   "metadata": {},
   "source": [
    "### 2.4 Statystyki ogólne\n",
    "\n",
    "Dla wstępnej analizy dokonano:\n",
    "- obliczenia liczby spółek i rozmiaru każdego z podzbiorów (`train`, `val`, `test`),"
   ]
  },
  {
   "cell_type": "code",
   "execution_count": 31,
   "id": "cfe6252f",
   "metadata": {},
   "outputs": [
    {
     "name": "stdout",
     "output_type": "stream",
     "text": [
      "Number of companies in the dataset: 7214\n",
      "subset\n",
      "train    0.798447\n",
      "test     0.151234\n",
      "val      0.050319\n",
      "Name: proportion, dtype: float64\n"
     ]
    }
   ],
   "source": [
    "financial_data_grouped = financial_dataset.groupby('cik').agg({'ticker': 'first', 'label': 'first', 'subset': 'first'})\n",
    "print(f\"Number of companies in the dataset: {financial_data_grouped.shape[0]}\")\n",
    "print(financial_data_grouped['subset'].value_counts(normalize=True))"
   ]
  },
  {
   "cell_type": "markdown",
   "id": "e1361b63",
   "metadata": {},
   "source": [
    "- wyświetlenie rozkładu klas"
   ]
  },
  {
   "cell_type": "code",
   "execution_count": 32,
   "id": "4e30b0d6",
   "metadata": {},
   "outputs": [
    {
     "data": {
      "text/plain": [
       "label\n",
       "False    0.608816\n",
       "True     0.391184\n",
       "Name: proportion, dtype: float64"
      ]
     },
     "execution_count": 32,
     "metadata": {},
     "output_type": "execute_result"
    }
   ],
   "source": [
    "financial_data_grouped['label'].value_counts(normalize=True)"
   ]
  },
  {
   "cell_type": "markdown",
   "id": "65ac6892",
   "metadata": {},
   "source": [
    "- sprawdzenia rozmiaru i rozkładu danych syntetycznych,"
   ]
  },
  {
   "cell_type": "code",
   "execution_count": 33,
   "id": "9a78e141",
   "metadata": {},
   "outputs": [
    {
     "data": {
      "text/plain": [
       "label\n",
       "True    2748\n",
       "Name: count, dtype: int64"
      ]
     },
     "execution_count": 33,
     "metadata": {},
     "output_type": "execute_result"
    }
   ],
   "source": [
    "financial_data_grouped_original_dataset = financial_data_grouped[financial_data_grouped['ticker'].isnull()]\n",
    "financial_data_grouped_original_dataset['label'].value_counts()"
   ]
  },
  {
   "cell_type": "markdown",
   "id": "0388876b",
   "metadata": {},
   "source": [
    "W kolumnach `Fiscal Period` oraz `ticker` widzimy brakujące wartości dla danych syntetycznych. Są one efektem nadpróbkowania zbioru danych. Nie będziemy ich usuwać, ponieważ pozostałe istotne dane są poprawne."
   ]
  },
  {
   "cell_type": "code",
   "execution_count": 37,
   "id": "67313dac",
   "metadata": {},
   "outputs": [
    {
     "data": {
      "text/plain": [
       "Fiscal Period                          13740\n",
       "ticker                                 13740\n",
       "cik                                        0\n",
       "Net Income                                 0\n",
       "Total Operating Expense                    0\n",
       "Total Liabilities                          0\n",
       "Total Inventories                          0\n",
       "Total Current Liabilities                  0\n",
       "Total Current Assets                       0\n",
       "Total Assets                               0\n",
       "Revenue                                    0\n",
       "Retained Earnings                          0\n",
       "Market Cap                                 0\n",
       "Long-Term Debt                             0\n",
       "Gross Profit                               0\n",
       "EBITDA                                     0\n",
       "EBIT                                       0\n",
       "Depreciation Depletion Amortization        0\n",
       "Cost of Goods Sold                         0\n",
       "subset                                     0\n",
       "label                                      0\n",
       "Total Receivables                          0\n",
       "dtype: int64"
      ]
     },
     "execution_count": 37,
     "metadata": {},
     "output_type": "execute_result"
    }
   ],
   "source": [
    "financial_dataset.isnull().sum().sort_values(ascending=False)"
   ]
  },
  {
   "cell_type": "markdown",
   "id": "7b685aba",
   "metadata": {},
   "source": [
    "Sprawdzenie ilości zer w danych numerycznych z podziałem na poszczególne kolumny. Zbiór danych zawiera zera, ponieważ brakujące dane w Gurufocus zostały zastąpione zerami, a same dane mogą naturalnie zawierać zera (np. dla cechy „Zysk netto” spółka mogła nie osiągnąć zysku w danym okresie).\n",
    "\n",
    "Procent zer w zbiorze danych jest niski."
   ]
  },
  {
   "cell_type": "code",
   "execution_count": 35,
   "id": "592e1dc2",
   "metadata": {},
   "outputs": [
    {
     "data": {
      "text/plain": [
       "Depreciation Depletion Amortization    519\n",
       "Net Income                             432\n",
       "EBIT                                   341\n",
       "EBITDA                                 285\n",
       "Long-Term Debt                         269\n",
       "Retained Earnings                      203\n",
       "Total Receivables                      128\n",
       "Cost of Goods Sold                      96\n",
       "Total Inventories                       80\n",
       "Gross Profit                            46\n",
       "Revenue                                 35\n",
       "Total Current Liabilities               16\n",
       "Total Current Assets                    15\n",
       "Total Operating Expense                 14\n",
       "Total Liabilities                       11\n",
       "Total Assets                            10\n",
       "Market Cap                               3\n",
       "dtype: int64"
      ]
     },
     "execution_count": 35,
     "metadata": {},
     "output_type": "execute_result"
    }
   ],
   "source": [
    "zeros_values_count_per_col = financial_dataset.iloc[:, 5:][financial_dataset == 0].count()\n",
    "zeros_values_count_per_col.sort_values(ascending=False)"
   ]
  },
  {
   "cell_type": "code",
   "execution_count": 36,
   "id": "cbca4a75",
   "metadata": {},
   "outputs": [
    {
     "name": "stdout",
     "output_type": "stream",
     "text": [
      "Percentage of zeros in the dataset: 0.41%\n"
     ]
    }
   ],
   "source": [
    "all_values_count = financial_dataset.iloc[:, 5:].count().sum()\n",
    "print(f'Percentage of zeros in the dataset: {zeros_values_count_per_col.sum() / all_values_count * 100:.2f}%')"
   ]
  },
  {
   "cell_type": "markdown",
   "id": "0d280c84",
   "metadata": {},
   "source": [
    "- weryfikacji jakości danych poprzez ręczne porównanie z informacjami dostępnymi na stronach takich jak [AlphaSpread](https://www.alphaspread.com), [Yahoo Finance](https://finance.yahoo.com) czy [Investing.com](https://www.investing.com)."
   ]
  },
  {
   "attachments": {
    "image.png": {
     "image/png": "[encoded data removed]"
    }
   },
   "cell_type": "markdown",
   "id": "206fa705",
   "metadata": {},
   "source": [
    "![image.png](attachment:image.png)"
   ]
  },
  {
   "cell_type": "markdown",
   "id": "33f866e5",
   "metadata": {},
   "source": [
    "JNRP (grudzień 2016):\n",
    "- wartość „amortyzacja i umorzenia” zgadza się: https://www.alphaspread.com/security/nyse/jnpr/financials/cash-flow-statement\n",
    "- wartość „zysk netto” zgadza się: https://www.alphaspread.com/security/nyse/jnpr/financials/income-statement/net-income-common\n",
    "\n",
    "NCLH (grudzień 2020):\n",
    "- wartość „amortyzacja i umorzenia” zgadza się: https://www.alphaspread.com/security/nasdaq/nclh/financials/cash-flow-statement\n",
    "- wartość „zysk netto” zgadza się: https://www.alphaspread.com/security/nyse/nclh/financials/income-statement/net-income-common\n",
    "\n",
    "WWCA (grudzień 2003):\n",
    "- spółka nie została znaleziona na stronach https://www.alphaspread.com oraz https://finance.yahoo.com – prawdopodobnie zbyt stara spółka. Sprawdzenie wartości „zysk netto”, „przychody” i „aktywa ogółem” poprzez stronę amerykańskiej komisji SEC również nie powiodło się: https://www.sec.gov/Archives/edgar/data/930738/000089102003002613/v93911e10vq.htm\n",
    "- spółka została przejęta w sierpniu 2005: https://en.wikipedia.org/wiki/Western_Wireless_Corporation\n",
    "\n",
    "STCN (lipiec 2018):\n",
    "- wartość „amortyzacja i umorzenia” zgadza się: https://www.alphaspread.com/security/nasdaq/stcn/financials/cash-flow-statement\n",
    "- wartość „zysk netto” prawie się zgadza (35,4): https://www.alphaspread.com/security/nasdaq/stcn/financials/income-statement/net-income-common\n",
    "\n",
    "FLOW (grudzień 2017):\n",
    "- wartość „zysk netto” oraz „aktywa ogółem” zgadzają się: https://www.investing.com/equities/spx-flow-inc-financial-summary\n",
    "\n",
    "Wnioski:\n",
    "\n",
    "Dane są poprawne dla 4 z 5 spółek. Zakładamy więc, że dane dla pozostałych firm również są poprawne. Serwis Gurufocus pobiera dane z Morningstar, który jest uznawany za wiarygodne źródło."
   ]
  },
  {
   "cell_type": "markdown",
   "id": "99f1c17b",
   "metadata": {},
   "source": [
    "### 2.5 Wnioski z analizy\n",
    "\n",
    "Zbiór danych jest dobrze przygotowany do uczenia modeli klasyfikacyjnych. Posiada zbalansowane klasy, logiczną strukturę i reprezentuje rzeczywiste dane finansowe, które można zweryfikować z niezależnych źródeł. Dzięki swojej strukturze (5 lat danych per spółka) oraz etykiecie binarnej, idealnie nadaje się do trenowania modeli predykcyjnych, które uczą się na podstawie trendów w danych finansowych."
   ]
  }
 ],
 "metadata": {
  "kernelspec": {
   "display_name": "Python 3",
   "language": "python",
   "name": "python3"
  },
  "language_info": {
   "codemirror_mode": {
    "name": "ipython",
    "version": 3
   },
   "file_extension": ".py",
   "mimetype": "text/x-python",
   "name": "python",
   "nbconvert_exporter": "python",
   "pygments_lexer": "ipython3",
   "version": "3.11.0"
  }
 },
 "nbformat": 4,
 "nbformat_minor": 5
}
